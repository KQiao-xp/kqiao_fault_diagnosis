{
 "cells": [
  {
   "cell_type": "code",
   "execution_count": 18,
   "metadata": {},
   "outputs": [],
   "source": [
    "import numpy as np\n",
    "import os\n",
    "import re\n",
    "import scipy.io as scio\n",
    "import numpy as np\n",
    "import pandas as pd\n",
    "import scipy.signal\n",
    "from sklearn.preprocessing import LabelBinarizer\n",
    "from sklearn import preprocessing\n",
    "from sklearn.model_selection import train_test_split"
   ]
  },
  {
   "cell_type": "code",
   "execution_count": 19,
   "metadata": {},
   "outputs": [],
   "source": [
    "raw_num = 240\n",
    "col_num = 2000\n",
    "\n",
    "class Data(object):\n",
    "    \n",
    "    def __init__(self):\n",
    "        self.data = self.get_data()\n",
    "        self.label = self.get_label()\n",
    "\n",
    "    def file_list(self):\n",
    "        return os.listdir('C:/Users/KQiao/Desktop/AMCNN-BiGRU/data483/')\n",
    "    \n",
    "    def get_data(self):\n",
    "        file_list = self.file_list()\n",
    "        for i in range(len(file_list)):\n",
    "            file = scio.loadmat('C:/Users/KQiao/Desktop/AMCNN-BiGRU/data483/{}'.format(file_list[i]))\n",
    "            for k in file.keys(): # 获取 DE 相关数据\n",
    "                file_matched = re.match('X\\d{3}_DE_time', k)\n",
    "                if file_matched:\n",
    "                    key = file_matched.group()\n",
    "            if i == 0:\n",
    "                data = np.array(file[key][0:480000].reshape(raw_num,col_num))\n",
    "            else:\n",
    "                data = np.vstack((data, file[key][0:480000].reshape(raw_num,col_num))) # 按行堆叠\n",
    "        return data\n",
    "    \n",
    "    def get_label(self):\n",
    "        file_list = self.file_list()\n",
    "        title = np.array([i.replace('.mat', '') for i in file_list]) # 用文件名作为 标签\n",
    "        label = title[:, np.newaxis] # 增加一个维度\n",
    "        label_copy = np.copy(label)\n",
    "        for _ in range(raw_num-1):\n",
    "            label = np.hstack((label, label_copy))\n",
    "        return label.flatten()"
   ]
  },
  {
   "cell_type": "code",
   "execution_count": 20,
   "metadata": {},
   "outputs": [
    {
     "name": "stdout",
     "output_type": "stream",
     "text": [
      "(2400, 2000)\n",
      "(2400, 10)\n",
      "(2400, 250)\n"
     ]
    }
   ],
   "source": [
    "Data = Data()\n",
    "data = Data.data # (2400, 2000)\n",
    "label = Data.label # (2400,)\n",
    "lb = LabelBinarizer()\n",
    "y = lb.fit_transform(label) # one-hot 编码\n",
    "\n",
    "# Wiener filtering 主要用于从带噪的观测信号种提取出所需要的干净信号\n",
    "data_wiener = scipy.signal.wiener(data, mysize=3, noise=None)\n",
    "\n",
    "print(data.shape)\n",
    "print(y.shape)\n",
    "\n",
    "# downsampling 下采样，每隔7个点取一个值\n",
    "index = np.arange(0,2000, 8)\n",
    "data_samp = data_wiener[:, index]\n",
    "print(data_samp.shape)"
   ]
  },
  {
   "cell_type": "code",
   "execution_count": 21,
   "metadata": {},
   "outputs": [
    {
     "name": "stdout",
     "output_type": "stream",
     "text": [
      "(1680, 250) (360, 250) (360, 250) (1680, 10) (360, 10) (360, 10)\n"
     ]
    }
   ],
   "source": [
    "X_train, X_testss, y_train, y_testss = train_test_split(data_samp, y, test_size=0.3, shuffle=True)\n",
    "X_test, X_valid, y_test, y_valid = train_test_split(X_testss, y_testss, test_size=0.5, shuffle=True)\n",
    "print(X_train.shape, X_test.shape, X_valid.shape, y_train.shape, y_test.shape, y_valid.shape)"
   ]
  },
  {
   "cell_type": "code",
   "execution_count": 22,
   "metadata": {},
   "outputs": [],
   "source": [
    "# 用于保存划分的数据集\n",
    "scio.savemat('traindata.mat',{'data': X_train, 'label': y_train})\n",
    "scio.savemat('validdata.mat',{'data': X_valid, 'label': y_valid})\n",
    "scio.savemat('testdata.mat',{'data': X_test, 'label': y_test})"
   ]
  }
 ],
 "metadata": {
  "kernelspec": {
   "display_name": "limitdata",
   "language": "python",
   "name": "limitdata"
  },
  "language_info": {
   "codemirror_mode": {
    "name": "ipython",
    "version": 3
   },
   "file_extension": ".py",
   "mimetype": "text/x-python",
   "name": "python",
   "nbconvert_exporter": "python",
   "pygments_lexer": "ipython3",
   "version": "3.6.2"
  }
 },
 "nbformat": 4,
 "nbformat_minor": 2
}
